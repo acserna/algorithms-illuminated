{
 "cells": [
  {
   "cell_type": "markdown",
   "id": "663a10b0",
   "metadata": {},
   "source": [
    "## Mergesort"
   ]
  },
  {
   "cell_type": "code",
   "execution_count": 1,
   "id": "f72e7ec4",
   "metadata": {},
   "outputs": [],
   "source": [
    "def merge(C, D):\n",
    "    \"\"\"\n",
    "    Input: sorted arrays C and D (length n/2 each).\n",
    "    Output: sorted array B (length n).\n",
    "    Simplifying assumption: n is even.\n",
    "    \"\"\"\n",
    "    B = []\n",
    "    i = 0\n",
    "    j = 0\n",
    "    \n",
    "    n = len(C) + len(D)\n",
    "    len_c = len(C)\n",
    "    len_d = len(D)\n",
    "    \n",
    "    for k in range(n):\n",
    "        if i == len_c:\n",
    "            B = B + D[j:]\n",
    "            break\n",
    "        \n",
    "        if j == len_d:\n",
    "            B = B + C[i:]\n",
    "            break\n",
    "            \n",
    "        if C[i] < D[j]:\n",
    "            B.append(C[i])\n",
    "            i+=1\n",
    "        else:\n",
    "            B.append(D[j])\n",
    "            j+=1\n",
    "    return B"
   ]
  },
  {
   "cell_type": "code",
   "execution_count": 2,
   "id": "6efadd20",
   "metadata": {},
   "outputs": [],
   "source": [
    "def mergesort(A):\n",
    "    \"\"\"\n",
    "    Input: array A of n distinct integers.\n",
    "    Output: array with the same integers, sorted from smallest to largest\n",
    "    \"\"\"\n",
    "    \n",
    "    n = len(A)\n",
    "    \n",
    "    if n == 1:\n",
    "        return A\n",
    "    \n",
    "    C = mergesort(A[:n//2])\n",
    "    D = mergesort(A[n//2:])\n",
    "    \n",
    "    return merge(C, D)"
   ]
  },
  {
   "cell_type": "code",
   "execution_count": 3,
   "id": "f3cdcd6e",
   "metadata": {},
   "outputs": [
    {
     "data": {
      "text/plain": [
       "[4, 5, 6, 7, 8, 9]"
      ]
     },
     "execution_count": 3,
     "metadata": {},
     "output_type": "execute_result"
    }
   ],
   "source": [
    "merge([4, 6, 8], [5, 7, 9])"
   ]
  },
  {
   "cell_type": "code",
   "execution_count": 4,
   "id": "a27ea364",
   "metadata": {},
   "outputs": [
    {
     "data": {
      "text/plain": [
       "[1, 2, 3, 4, 5, 6, 7, 8, 9]"
      ]
     },
     "execution_count": 4,
     "metadata": {},
     "output_type": "execute_result"
    }
   ],
   "source": [
    "mergesort([9, 7, 1, 2, 4, 6, 3, 8, 5])"
   ]
  },
  {
   "cell_type": "code",
   "execution_count": 5,
   "id": "aa15946e",
   "metadata": {},
   "outputs": [
    {
     "data": {
      "text/plain": [
       "[1, 2, 3, 4, 5, 6, 7, 8, 9]"
      ]
     },
     "execution_count": 5,
     "metadata": {},
     "output_type": "execute_result"
    }
   ],
   "source": [
    "mergesort([9, 7, 1, 2, 4, 6, 3, 8, 5])"
   ]
  },
  {
   "cell_type": "code",
   "execution_count": null,
   "id": "dcc5d176",
   "metadata": {},
   "outputs": [],
   "source": []
  },
  {
   "cell_type": "markdown",
   "id": "23b51295",
   "metadata": {},
   "source": [
    "## Challenge Problems"
   ]
  },
  {
   "cell_type": "markdown",
   "id": "cbf9763b",
   "metadata": {},
   "source": [
    "**Problem 1.5** You are given as input an unsorted array of n distinct\n",
    "numbers, where n is a power of 2. Give an algorithm that identifies the\n",
    "second-largest number in the array, and that uses at most *n+log2 n−2*\n",
    "comparisons. [Hint: What information do you have left over after\n",
    "computing the largest number?]"
   ]
  },
  {
   "cell_type": "code",
   "execution_count": 6,
   "id": "5a98a279",
   "metadata": {},
   "outputs": [],
   "source": [
    "def second_largest_number(array: list[float]) -> float:\n",
    "    \"\"\"\n",
    "        Function that allows to get the 2nd largest number in a list\n",
    "        params:\n",
    "            array: list\n",
    "    \"\"\"\n",
    "    largest = float(\"-inf\")\n",
    "    second_largest = float(\"-inf\")\n",
    "    \n",
    "    if len(array) < 2:\n",
    "        return None\n",
    "    \n",
    "    for element in array:\n",
    "        if element > largest:\n",
    "            second_largest = largest\n",
    "            largest = element\n",
    "            continue\n",
    "        if element > second_largest:\n",
    "            second_largest = element\n",
    "    \n",
    "    return second_largest"
   ]
  },
  {
   "cell_type": "code",
   "execution_count": 7,
   "id": "ac2cdf2b",
   "metadata": {},
   "outputs": [],
   "source": [
    "array_test1 = [2, 1, 9, 10, 12, -1]\n",
    "assert second_largest_number(array_test1) == 10"
   ]
  },
  {
   "cell_type": "code",
   "execution_count": 8,
   "id": "2e89314b",
   "metadata": {},
   "outputs": [],
   "source": [
    "array_test2 = [7, 1, 2, 4, 6, 3, 8, 5]\n",
    "assert second_largest_number(array_test2) == 7"
   ]
  },
  {
   "cell_type": "code",
   "execution_count": null,
   "id": "f3c46dc2",
   "metadata": {},
   "outputs": [],
   "source": []
  },
  {
   "cell_type": "markdown",
   "id": "00f6f42a",
   "metadata": {},
   "source": [
    "## Programming Problems"
   ]
  },
  {
   "cell_type": "markdown",
   "id": "8ae222c6",
   "metadata": {},
   "source": [
    "**Problem 1.6** Implement Karatsuba’s integer multiplication algorithm\n",
    "in your favorite programming language. To get the most out\n",
    "of this problem, your program should invoke the language’s multiplication\n",
    "operator only on pairs of single-digit numbers.\n",
    "For a concrete challenge, what’s the product of the following two\n",
    "64-digit numbers?"
   ]
  },
  {
   "cell_type": "code",
   "execution_count": 9,
   "id": "7c70653e",
   "metadata": {},
   "outputs": [],
   "source": [
    "def fill_with_zeros_power_2(number, min_length):\n",
    "    power_2_length = 1\n",
    "    while power_2_length < min_length:\n",
    "        power_2_length = power_2_length << 1\n",
    "    \n",
    "    if len(number) < power_2_length:\n",
    "        return \"{}{}\".format(\"0\"*(power_2_length-len(number)), number)\n",
    "    return number"
   ]
  },
  {
   "cell_type": "code",
   "execution_count": 10,
   "id": "7284e7ec",
   "metadata": {},
   "outputs": [],
   "source": [
    "def prepare_inputs_to_karatsuba_multiplication(number1, number2):\n",
    "    number1 = str(number1)\n",
    "    number2 = str(number2)\n",
    "    \n",
    "    n_number1 = len(number1)\n",
    "    n_number2 = len(number2)\n",
    "    \n",
    "    n = max(n_number1, n_number2)\n",
    "    \n",
    "    number1 = fill_with_zeros_power_2(number1, n)\n",
    "    number2 = fill_with_zeros_power_2(number2, n)\n",
    "    \n",
    "    return number1, number2    "
   ]
  },
  {
   "cell_type": "code",
   "execution_count": 11,
   "id": "43fcf3e9",
   "metadata": {},
   "outputs": [
    {
     "data": {
      "text/plain": [
       "('1', '0')"
      ]
     },
     "execution_count": 11,
     "metadata": {},
     "output_type": "execute_result"
    }
   ],
   "source": [
    "prepare_inputs_to_karatsuba_multiplication(1, 0)"
   ]
  },
  {
   "cell_type": "code",
   "execution_count": 12,
   "id": "57d25b3d",
   "metadata": {},
   "outputs": [
    {
     "data": {
      "text/plain": [
       "('0000000000000123', '0000000987654321')"
      ]
     },
     "execution_count": 12,
     "metadata": {},
     "output_type": "execute_result"
    }
   ],
   "source": [
    "prepare_inputs_to_karatsuba_multiplication(123, 987654321)"
   ]
  },
  {
   "cell_type": "code",
   "execution_count": 13,
   "id": "c95a9ae5",
   "metadata": {},
   "outputs": [
    {
     "data": {
      "text/plain": [
       "('0000000987654321', '0000000000000123')"
      ]
     },
     "execution_count": 13,
     "metadata": {},
     "output_type": "execute_result"
    }
   ],
   "source": [
    "prepare_inputs_to_karatsuba_multiplication(987654321, 123)"
   ]
  },
  {
   "cell_type": "code",
   "execution_count": 14,
   "id": "dc6100c1",
   "metadata": {},
   "outputs": [],
   "source": [
    "def karatsuba_multiplication(number1, number2):\n",
    "    \"\"\"\n",
    "        function that allows to perform the multiplication of two n-digit\n",
    "        positive integers, with the following assumption: n is a power of 2\n",
    "    \"\"\"\n",
    "    \n",
    "    number1, number2 = prepare_inputs_to_karatsuba_multiplication(int(number1), int(number2))\n",
    "\n",
    "    n = len(number1)\n",
    "    \n",
    "    if len(number1) == 1 and len(number2) == 1:\n",
    "        return int(number1) * int(number2)\n",
    "    \n",
    "    half_n = n//2\n",
    "    \n",
    "    a, b = number1[:half_n], number1[half_n:]\n",
    "    c, d = number2[:half_n], number2[half_n:]\n",
    "    \n",
    "    p = int(a) + int(b)\n",
    "    q = int(c) + int(d)\n",
    "    \n",
    "    ac = karatsuba_multiplication(a, c)\n",
    "    bd = karatsuba_multiplication(b, d)\n",
    "    pq = karatsuba_multiplication(p, q)\n",
    "    \n",
    "    adbc = pq - ac - bd\n",
    "    \n",
    "    multiplication = (10**n) * ac + (10**half_n) * adbc + bd\n",
    "    \n",
    "    return multiplication"
   ]
  },
  {
   "cell_type": "code",
   "execution_count": 15,
   "id": "b50605b3",
   "metadata": {},
   "outputs": [],
   "source": [
    "num1, num2 = 10, 20\n",
    "assert karatsuba_multiplication(num1, num2) == 200"
   ]
  },
  {
   "cell_type": "code",
   "execution_count": 16,
   "id": "f5affb22",
   "metadata": {},
   "outputs": [],
   "source": [
    "num1, num2 = 5678, 1234\n",
    "assert karatsuba_multiplication(num1, num2) == 7006652"
   ]
  },
  {
   "cell_type": "code",
   "execution_count": 17,
   "id": "7fb8a6c3",
   "metadata": {},
   "outputs": [],
   "source": [
    "num1 = 3141592653589793238462643383279502884197169399375105820974944592\n",
    "num2 = 2718281828459045235360287471352662497757247093699959574966967627\n",
    "assert karatsuba_multiplication(num1, num2) == (num1 * num2)"
   ]
  },
  {
   "cell_type": "code",
   "execution_count": null,
   "id": "5191b2b6",
   "metadata": {},
   "outputs": [],
   "source": []
  }
 ],
 "metadata": {
  "kernelspec": {
   "display_name": "Python 3 (ipykernel)",
   "language": "python",
   "name": "python3"
  },
  "language_info": {
   "codemirror_mode": {
    "name": "ipython",
    "version": 3
   },
   "file_extension": ".py",
   "mimetype": "text/x-python",
   "name": "python",
   "nbconvert_exporter": "python",
   "pygments_lexer": "ipython3",
   "version": "3.10.0"
  }
 },
 "nbformat": 4,
 "nbformat_minor": 5
}

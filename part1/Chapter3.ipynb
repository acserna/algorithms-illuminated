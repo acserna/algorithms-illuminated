{
 "cells": [
  {
   "cell_type": "markdown",
   "id": "2a695381",
   "metadata": {},
   "source": [
    "## Programming Problems"
   ]
  },
  {
   "cell_type": "markdown",
   "id": "6dbbdb2f",
   "metadata": {},
   "source": [
    "## CountInv\n",
    "Problem 3.5 Implement in your favorite programming language the\n",
    "CountInv algorithm from Section 3.2 for counting the number of\n",
    "inversions of an array. (See www.algorithmsilluminated.org for\n",
    "test cases and challenge data sets.)"
   ]
  },
  {
   "cell_type": "code",
   "execution_count": 1,
   "id": "cd3001b3",
   "metadata": {},
   "outputs": [],
   "source": [
    "def merge_and_count_split_inversions(C: list[int], D: list[int]) -> (list[int], int):\n",
    "    \"\"\"\n",
    "    Input: sorted arrays C and D (length n/2 each).\n",
    "    Output: sorted array B (length n) and the number of split inversions.\n",
    "    \"\"\"\n",
    "    \n",
    "    B = []\n",
    "    i = 0\n",
    "    j = 0\n",
    "    split_inversions = 0\n",
    "    \n",
    "    len_c = len(C)\n",
    "    len_d = len(D)\n",
    "    n = len_c + len_d\n",
    "    \n",
    "    for k in range(n):\n",
    "        if i == len_c:\n",
    "            B = B + D[j:]\n",
    "            break\n",
    "        \n",
    "        if j == len_d:\n",
    "            B = B + C[i:]\n",
    "            break\n",
    "        \n",
    "        if C[i] < D[j]:\n",
    "            B.append(C[i])\n",
    "            i += 1\n",
    "        else:\n",
    "            B.append(D[j])\n",
    "            j += 1\n",
    "            split_inversions = split_inversions + len_c - i\n",
    "    \n",
    "    return B, split_inversions"
   ]
  },
  {
   "cell_type": "code",
   "execution_count": 2,
   "id": "cd91bfc2",
   "metadata": {},
   "outputs": [],
   "source": [
    "def sort_count_inversions(A: list[int], split_inversions) -> (list[int], int):\n",
    "    \"\"\"\n",
    "    Input: array A of n distinct integers.\n",
    "    Output: the number of inversions of A.\n",
    "    \"\"\"\n",
    "    \n",
    "    n = len(A)\n",
    "    half_of_n = n//2\n",
    "    \n",
    "    if n <= 1:\n",
    "        return A, 0\n",
    "    \n",
    "    C, left_inversions = sort_count_inversions(A[:half_of_n], 0)\n",
    "    D, right_inversions = sort_count_inversions(A[half_of_n:], 0)\n",
    "    B, split_inversions = merge_and_count_split_inversions(C, D)\n",
    "    \n",
    "    return B, (left_inversions + right_inversions + split_inversions)"
   ]
  },
  {
   "cell_type": "code",
   "execution_count": 3,
   "id": "2f5db758",
   "metadata": {},
   "outputs": [],
   "source": [
    "def count_inversions(A: list[int]) -> int:\n",
    "    \"\"\"\n",
    "    Input: array A of n distinct integers.\n",
    "    Output: the number of inversions of A.\n",
    "    \"\"\"\n",
    "    \n",
    "    sorted_A, number_of_inversions = sort_count_inversions(A, 0)\n",
    "    \n",
    "    return number_of_inversions"
   ]
  },
  {
   "cell_type": "code",
   "execution_count": 4,
   "id": "bab2384d",
   "metadata": {},
   "outputs": [
    {
     "data": {
      "text/plain": [
       "3"
      ]
     },
     "execution_count": 4,
     "metadata": {},
     "output_type": "execute_result"
    }
   ],
   "source": [
    "test_list = [1, 3, 5, 2, 4, 6]\n",
    "count_inversions(test_list)"
   ]
  },
  {
   "cell_type": "code",
   "execution_count": null,
   "id": "0275f3b3",
   "metadata": {},
   "outputs": [],
   "source": []
  }
 ],
 "metadata": {
  "kernelspec": {
   "display_name": "Python 3 (ipykernel)",
   "language": "python",
   "name": "python3"
  },
  "language_info": {
   "codemirror_mode": {
    "name": "ipython",
    "version": 3
   },
   "file_extension": ".py",
   "mimetype": "text/x-python",
   "name": "python",
   "nbconvert_exporter": "python",
   "pygments_lexer": "ipython3",
   "version": "3.10.0"
  }
 },
 "nbformat": 4,
 "nbformat_minor": 5
}
